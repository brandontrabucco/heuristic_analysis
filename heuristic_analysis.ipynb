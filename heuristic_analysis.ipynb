{
 "cells": [
  {
   "cell_type": "code",
   "execution_count": 1,
   "metadata": {},
   "outputs": [],
   "source": [
    "import json\n",
    "import numpy as np\n",
    "import matplotlib.pyplot as plt"
   ]
  },
  {
   "cell_type": "code",
   "execution_count": 2,
   "metadata": {},
   "outputs": [],
   "source": [
    "with open(\"vocab.distances.json\", \"r\") as f:\n",
    "    vocab_distances = json.load(f)"
   ]
  },
  {
   "cell_type": "code",
   "execution_count": 3,
   "metadata": {},
   "outputs": [],
   "source": [
    "scale = 1.0\n",
    "offset = 0.0\n",
    "\n",
    "id_name_mapping = {}\n",
    "id_name_heuristic_mapping = {}\n",
    "\n",
    "for row in vocab_distances:\n",
    "    id_name_mapping[row[\"word_id\"]] = row[\"word_name\"]\n",
    "    id_name_mapping[row[\"word_name\"]] = row[\"word_id\"]\n",
    "    \n",
    "    row[\"heuristic\"] = 0.0\n",
    "    for n in row[\"neighbors\"]:\n",
    "        row[\"heuristic\"] += n[\"word_distance\"]\n",
    "        \n",
    "    id_name_heuristic_mapping[row[\"word_id\"]] = row[\"heuristic\"]\n",
    "    id_name_heuristic_mapping[row[\"word_name\"]] = row[\"heuristic\"]"
   ]
  },
  {
   "cell_type": "code",
   "execution_count": 4,
   "metadata": {},
   "outputs": [],
   "source": [
    "minval = np.inf\n",
    "maxval = -np.inf\n",
    "\n",
    "for row in vocab_distances:\n",
    "    calculated = id_name_heuristic_mapping[row[\"word_id\"]]\n",
    "    if calculated < minval:\n",
    "        minval = calculated\n",
    "        \n",
    "offset = minval\n",
    "\n",
    "for row in vocab_distances:\n",
    "    calculated = id_name_heuristic_mapping[row[\"word_id\"]] - offset\n",
    "    if calculated > maxval:\n",
    "        maxval = calculated\n",
    "        \n",
    "scale = maxval"
   ]
  },
  {
   "cell_type": "code",
   "execution_count": 5,
   "metadata": {
    "scrolled": true
   },
   "outputs": [],
   "source": [
    "with open(\n",
    "        \"neighbor.dump.txt\",\n",
    "        \"w\") as f:\n",
    "\n",
    "    for row in vocab_distances:\n",
    "        f.write(\"ID: %d | Word: \\\"%s\\\" | Heuristic: %.3f\\n\" % (\n",
    "            id_name_mapping[row[\"word_name\"]], \n",
    "            row[\"word_name\"], \n",
    "            (id_name_heuristic_mapping[row[\"word_name\"]] - offset) / scale))\n",
    "        for n in row[\"neighbors\"]:\n",
    "            f.write(\"    Distance: %.3f | ID: %d | Word: \\\"%s\\\" | Heuristic: %.3f\\n\" % (\n",
    "                n[\"word_distance\"],\n",
    "                id_name_mapping[n[\"word_name\"]], \n",
    "                n[\"word_name\"], \n",
    "                (id_name_heuristic_mapping[n[\"word_name\"]] - offset) / scale))"
   ]
  },
  {
   "cell_type": "code",
   "execution_count": 6,
   "metadata": {},
   "outputs": [
    {
     "name": "stdout",
     "output_type": "stream",
     "text": [
      "1.0\n"
     ]
    }
   ],
   "source": [
    "heuristic_array = np.array([(id_name_heuristic_mapping[x[\"word_id\"]] - offset) / scale for x in vocab_distances])\n",
    "print(heuristic_array.max())"
   ]
  },
  {
   "cell_type": "code",
   "execution_count": 7,
   "metadata": {},
   "outputs": [],
   "source": [
    "with open(\n",
    "        \"generality.score\",\n",
    "        \"w\") as f:\n",
    "    for row in heuristic_array:\n",
    "        f.write(str(row) + \"\\n\")"
   ]
  },
  {
   "cell_type": "code",
   "execution_count": 8,
   "metadata": {},
   "outputs": [],
   "source": [
    "np.savetxt(\"generality.heuristic.csv\", heuristic_array)"
   ]
  },
  {
   "cell_type": "code",
   "execution_count": null,
   "metadata": {},
   "outputs": [],
   "source": []
  }
 ],
 "metadata": {
  "kernelspec": {
   "display_name": "Python 3",
   "language": "python",
   "name": "python3"
  },
  "language_info": {
   "codemirror_mode": {
    "name": "ipython",
    "version": 3
   },
   "file_extension": ".py",
   "mimetype": "text/x-python",
   "name": "python",
   "nbconvert_exporter": "python",
   "pygments_lexer": "ipython3",
   "version": "3.6.5"
  }
 },
 "nbformat": 4,
 "nbformat_minor": 2
}
